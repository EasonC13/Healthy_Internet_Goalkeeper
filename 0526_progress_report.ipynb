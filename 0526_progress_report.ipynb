{
 "cells": [
  {
   "attachments": {},
   "cell_type": "markdown",
   "metadata": {},
   "source": [
    "# 主題：健康上網AI守門員！ 色情圖片辨識\n",
    "### 組員：陳怡升、張睿傑、李志恆<br/>\n",
    "### 概述：\n",
    "我們希望打造一個新型態的<span style=\"color:red\">健康上網守門員</span><br/>透過色情圖片辨識，當偵測到使用者在瀏覽<span style=\"color:red\">色情內容</span>時，將會自動播放歌曲[Big Enough](https://www.youtube.com/watch?v=rvrZJ5C_Nwg)中[牛仔的尖叫片段](https://www.youtube.com/watch?v=Qcp2W1-SFt4)，<br/>並自動按下ALT+F4<span style=\"color:red\">關閉視窗</span>或<span style=\"color:red\">讓滑鼠到處飄移亂點</span>造成使用者無法正常操作電腦。\n",
    "\n",
    "### 目的：\n",
    "本來我們想做色情圖片辨識，不過想想辨識出來也要有個用途，靈光一閃就想到這個\"健康上網AI守門員\"的idea<br/>\n",
    "如果成功，會在暑假將其改良成開機後自動在背景執行，為我國青少年身心健康發展盡一份心力。\n",
    "\n",
    "### 具體做法：\n",
    "* **資料取得：**<br/>\n",
    "我們將透過github上的[NSFW數據庫](https://github.com/GantMan/nsfw_model)來取得資料進行訓練。<br/>\n",
    "將資料集中corrupted image 移除後剩下的**212038**張圖片被分為5種類別，分別為：<br/>\n",
    "![CLASSES](resource/classes.png)\n",
    "<br/><br/>\n",
    "* **模型訓練：** <br/>\n",
    "使用Keras中的<span style=\"color:red\">InceptionV3</span>模型中ImageNet 的權重來進行transfer learning，再加上兩層<span style=\"color:red\">DenseNet</span>提高辨識度。<br/><br/>\n",
    "* **預期結果：** <br/>\n",
    "在經過fine-tuning 後，希望模型在將圖片分類上能夠達到<span style=\"color:red\">90%</span> 以上的正確率。<br/><br/>\n",
    "* **呈現方式：** <br/>\n",
    "使用訓練完成的模型，打造出一個能夠辨識使用者有無在瀏覽色情內容的程式。<br/>\n",
    "該程式將<span style=\"color:red\">定期做螢幕截圖</span>並辨識圖片中是否有色情內容。<br/>\n",
    "如果有，將會自動播放歌曲Big Enough中牛仔的尖叫片段，\n",
    "並按下ALT+F4關閉視窗或讓滑鼠到處飄移亂點<span style=\"color:red\">造成使用者無法正常操作電腦。</span><br/>\n",
    "音樂播放的部分目前規劃使用os.system開啟，目前也在尋找其他支援播放mp3的module，不過還沒找到<br/>\n",
    "關閉視窗、讓滑鼠飄移亂點，讓使用者無法正常操作將使用<span style=\"color:red\">autopy</span>套件來達成。\n",
    "\n",
    "### 進度規劃：\n",
    "![SCHEDULE](resource/schedule.png)\n",
    "\n",
    "### 目前進度：\n",
    "目前模型在validation data 的準確度已高達<span style=\"color:red\">88%</span>，預期之後進行fine-tuning 能夠使準確度再度上升。\n"
   ]
  },
  {
   "cell_type": "code",
   "execution_count": null,
   "metadata": {},
   "outputs": [],
   "source": []
  }
 ],
 "metadata": {
  "kernelspec": {
   "display_name": "Python 3",
   "language": "python",
   "name": "python3"
  },
  "language_info": {
   "codemirror_mode": {
    "name": "ipython",
    "version": 3
   },
   "file_extension": ".py",
   "mimetype": "text/x-python",
   "name": "python",
   "nbconvert_exporter": "python",
   "pygments_lexer": "ipython3",
   "version": "3.6.0"
  }
 },
 "nbformat": 4,
 "nbformat_minor": 2
}
